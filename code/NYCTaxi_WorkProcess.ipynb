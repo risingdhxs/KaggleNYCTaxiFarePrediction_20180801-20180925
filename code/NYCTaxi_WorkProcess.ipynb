{
 "cells": [
  {
   "cell_type": "code",
   "execution_count": 1,
   "metadata": {},
   "outputs": [
    {
     "name": "stderr",
     "output_type": "stream",
     "text": [
      "/usr/lib/python3.6/importlib/_bootstrap.py:219: RuntimeWarning: numpy.dtype size changed, may indicate binary incompatibility. Expected 96, got 88\n",
      "  return f(*args, **kwds)\n"
     ]
    }
   ],
   "source": [
    "%matplotlib inline\n",
    "\n",
    "import numpy as np\n",
    "import pandas as pd\n",
    "import os\n",
    "import matplotlib.pyplot as plt\n",
    "pd.options.display.max_rows=10"
   ]
  },
  {
   "cell_type": "code",
   "execution_count": 2,
   "metadata": {},
   "outputs": [],
   "source": [
    "df_train=pd.read_csv('../input/train.csv',nrows=100000)"
   ]
  },
  {
   "cell_type": "code",
   "execution_count": 3,
   "metadata": {},
   "outputs": [
    {
     "data": {
      "text/html": [
       "<div>\n",
       "<style scoped>\n",
       "    .dataframe tbody tr th:only-of-type {\n",
       "        vertical-align: middle;\n",
       "    }\n",
       "\n",
       "    .dataframe tbody tr th {\n",
       "        vertical-align: top;\n",
       "    }\n",
       "\n",
       "    .dataframe thead th {\n",
       "        text-align: right;\n",
       "    }\n",
       "</style>\n",
       "<table border=\"1\" class=\"dataframe\">\n",
       "  <thead>\n",
       "    <tr style=\"text-align: right;\">\n",
       "      <th></th>\n",
       "      <th>key</th>\n",
       "      <th>fare_amount</th>\n",
       "      <th>pickup_datetime</th>\n",
       "      <th>pickup_longitude</th>\n",
       "      <th>pickup_latitude</th>\n",
       "      <th>dropoff_longitude</th>\n",
       "      <th>dropoff_latitude</th>\n",
       "      <th>passenger_count</th>\n",
       "    </tr>\n",
       "  </thead>\n",
       "  <tbody>\n",
       "    <tr>\n",
       "      <th>0</th>\n",
       "      <td>2009-06-15 17:26:21.0000001</td>\n",
       "      <td>4.5</td>\n",
       "      <td>2009-06-15 17:26:21 UTC</td>\n",
       "      <td>-73.844311</td>\n",
       "      <td>40.721319</td>\n",
       "      <td>-73.841610</td>\n",
       "      <td>40.712278</td>\n",
       "      <td>1</td>\n",
       "    </tr>\n",
       "    <tr>\n",
       "      <th>1</th>\n",
       "      <td>2010-01-05 16:52:16.0000002</td>\n",
       "      <td>16.9</td>\n",
       "      <td>2010-01-05 16:52:16 UTC</td>\n",
       "      <td>-74.016048</td>\n",
       "      <td>40.711303</td>\n",
       "      <td>-73.979268</td>\n",
       "      <td>40.782004</td>\n",
       "      <td>1</td>\n",
       "    </tr>\n",
       "    <tr>\n",
       "      <th>2</th>\n",
       "      <td>2011-08-18 00:35:00.00000049</td>\n",
       "      <td>5.7</td>\n",
       "      <td>2011-08-18 00:35:00 UTC</td>\n",
       "      <td>-73.982738</td>\n",
       "      <td>40.761270</td>\n",
       "      <td>-73.991242</td>\n",
       "      <td>40.750562</td>\n",
       "      <td>2</td>\n",
       "    </tr>\n",
       "    <tr>\n",
       "      <th>3</th>\n",
       "      <td>2012-04-21 04:30:42.0000001</td>\n",
       "      <td>7.7</td>\n",
       "      <td>2012-04-21 04:30:42 UTC</td>\n",
       "      <td>-73.987130</td>\n",
       "      <td>40.733143</td>\n",
       "      <td>-73.991567</td>\n",
       "      <td>40.758092</td>\n",
       "      <td>1</td>\n",
       "    </tr>\n",
       "    <tr>\n",
       "      <th>4</th>\n",
       "      <td>2010-03-09 07:51:00.000000135</td>\n",
       "      <td>5.3</td>\n",
       "      <td>2010-03-09 07:51:00 UTC</td>\n",
       "      <td>-73.968095</td>\n",
       "      <td>40.768008</td>\n",
       "      <td>-73.956655</td>\n",
       "      <td>40.783762</td>\n",
       "      <td>1</td>\n",
       "    </tr>\n",
       "    <tr>\n",
       "      <th>...</th>\n",
       "      <td>...</td>\n",
       "      <td>...</td>\n",
       "      <td>...</td>\n",
       "      <td>...</td>\n",
       "      <td>...</td>\n",
       "      <td>...</td>\n",
       "      <td>...</td>\n",
       "      <td>...</td>\n",
       "    </tr>\n",
       "    <tr>\n",
       "      <th>99995</th>\n",
       "      <td>2013-09-24 07:39:00.00000071</td>\n",
       "      <td>9.0</td>\n",
       "      <td>2013-09-24 07:39:00 UTC</td>\n",
       "      <td>-73.947977</td>\n",
       "      <td>40.784792</td>\n",
       "      <td>-73.964262</td>\n",
       "      <td>40.792347</td>\n",
       "      <td>5</td>\n",
       "    </tr>\n",
       "    <tr>\n",
       "      <th>99996</th>\n",
       "      <td>2014-05-15 12:15:45.0000001</td>\n",
       "      <td>6.0</td>\n",
       "      <td>2014-05-15 12:15:45 UTC</td>\n",
       "      <td>-73.962918</td>\n",
       "      <td>40.799107</td>\n",
       "      <td>-73.974178</td>\n",
       "      <td>40.786487</td>\n",
       "      <td>1</td>\n",
       "    </tr>\n",
       "    <tr>\n",
       "      <th>99997</th>\n",
       "      <td>2015-02-19 17:40:43.0000001</td>\n",
       "      <td>5.0</td>\n",
       "      <td>2015-02-19 17:40:43 UTC</td>\n",
       "      <td>-73.996773</td>\n",
       "      <td>40.723549</td>\n",
       "      <td>-73.991974</td>\n",
       "      <td>40.724724</td>\n",
       "      <td>1</td>\n",
       "    </tr>\n",
       "    <tr>\n",
       "      <th>99998</th>\n",
       "      <td>2009-10-10 23:35:00.000000165</td>\n",
       "      <td>6.9</td>\n",
       "      <td>2009-10-10 23:35:00 UTC</td>\n",
       "      <td>-73.983652</td>\n",
       "      <td>40.756667</td>\n",
       "      <td>-73.982715</td>\n",
       "      <td>40.767067</td>\n",
       "      <td>4</td>\n",
       "    </tr>\n",
       "    <tr>\n",
       "      <th>99999</th>\n",
       "      <td>2010-11-09 16:09:00.00000015</td>\n",
       "      <td>5.7</td>\n",
       "      <td>2010-11-09 16:09:00 UTC</td>\n",
       "      <td>-73.975663</td>\n",
       "      <td>40.791653</td>\n",
       "      <td>-73.982267</td>\n",
       "      <td>40.774968</td>\n",
       "      <td>1</td>\n",
       "    </tr>\n",
       "  </tbody>\n",
       "</table>\n",
       "<p>100000 rows × 8 columns</p>\n",
       "</div>"
      ],
      "text/plain": [
       "                                 key  fare_amount          pickup_datetime  \\\n",
       "0        2009-06-15 17:26:21.0000001          4.5  2009-06-15 17:26:21 UTC   \n",
       "1        2010-01-05 16:52:16.0000002         16.9  2010-01-05 16:52:16 UTC   \n",
       "2       2011-08-18 00:35:00.00000049          5.7  2011-08-18 00:35:00 UTC   \n",
       "3        2012-04-21 04:30:42.0000001          7.7  2012-04-21 04:30:42 UTC   \n",
       "4      2010-03-09 07:51:00.000000135          5.3  2010-03-09 07:51:00 UTC   \n",
       "...                              ...          ...                      ...   \n",
       "99995   2013-09-24 07:39:00.00000071          9.0  2013-09-24 07:39:00 UTC   \n",
       "99996    2014-05-15 12:15:45.0000001          6.0  2014-05-15 12:15:45 UTC   \n",
       "99997    2015-02-19 17:40:43.0000001          5.0  2015-02-19 17:40:43 UTC   \n",
       "99998  2009-10-10 23:35:00.000000165          6.9  2009-10-10 23:35:00 UTC   \n",
       "99999   2010-11-09 16:09:00.00000015          5.7  2010-11-09 16:09:00 UTC   \n",
       "\n",
       "       pickup_longitude  pickup_latitude  dropoff_longitude  dropoff_latitude  \\\n",
       "0            -73.844311        40.721319         -73.841610         40.712278   \n",
       "1            -74.016048        40.711303         -73.979268         40.782004   \n",
       "2            -73.982738        40.761270         -73.991242         40.750562   \n",
       "3            -73.987130        40.733143         -73.991567         40.758092   \n",
       "4            -73.968095        40.768008         -73.956655         40.783762   \n",
       "...                 ...              ...                ...               ...   \n",
       "99995        -73.947977        40.784792         -73.964262         40.792347   \n",
       "99996        -73.962918        40.799107         -73.974178         40.786487   \n",
       "99997        -73.996773        40.723549         -73.991974         40.724724   \n",
       "99998        -73.983652        40.756667         -73.982715         40.767067   \n",
       "99999        -73.975663        40.791653         -73.982267         40.774968   \n",
       "\n",
       "       passenger_count  \n",
       "0                    1  \n",
       "1                    1  \n",
       "2                    2  \n",
       "3                    1  \n",
       "4                    1  \n",
       "...                ...  \n",
       "99995                5  \n",
       "99996                1  \n",
       "99997                1  \n",
       "99998                4  \n",
       "99999                1  \n",
       "\n",
       "[100000 rows x 8 columns]"
      ]
     },
     "execution_count": 3,
     "metadata": {},
     "output_type": "execute_result"
    }
   ],
   "source": [
    "df_train"
   ]
  },
  {
   "cell_type": "code",
   "execution_count": 4,
   "metadata": {},
   "outputs": [],
   "source": [
    "df_train=df_train[(df_train.pickup_latitude>39)&(df_train.pickup_latitude<42)&(df_train.pickup_longitude>-74.5)&(df_train.pickup_longitude<-72)\n",
    "                 &(df_train.dropoff_latitude>39)&(df_train.dropoff_latitude<42)&(df_train.dropoff_longitude>-74.5)&(df_train.dropoff_longitude<-72)\n",
    "                 &(df_train.fare_amount > 0)]"
   ]
  },
  {
   "cell_type": "code",
   "execution_count": 5,
   "metadata": {},
   "outputs": [
    {
     "data": {
      "text/plain": [
       "1    68108\n",
       "2    14287\n",
       "5     6876\n",
       "3     4211\n",
       "4     2042\n",
       "6     2003\n",
       "0      358\n",
       "Name: passenger_count, dtype: int64"
      ]
     },
     "execution_count": 5,
     "metadata": {},
     "output_type": "execute_result"
    }
   ],
   "source": [
    "df_train['passenger_count'].value_counts()"
   ]
  },
  {
   "cell_type": "code",
   "execution_count": 6,
   "metadata": {},
   "outputs": [
    {
     "data": {
      "text/html": [
       "<div>\n",
       "<style scoped>\n",
       "    .dataframe tbody tr th:only-of-type {\n",
       "        vertical-align: middle;\n",
       "    }\n",
       "\n",
       "    .dataframe tbody tr th {\n",
       "        vertical-align: top;\n",
       "    }\n",
       "\n",
       "    .dataframe thead th {\n",
       "        text-align: right;\n",
       "    }\n",
       "</style>\n",
       "<table border=\"1\" class=\"dataframe\">\n",
       "  <thead>\n",
       "    <tr style=\"text-align: right;\">\n",
       "      <th></th>\n",
       "      <th>passenger_count</th>\n",
       "      <th>fare_amount</th>\n",
       "    </tr>\n",
       "  </thead>\n",
       "  <tbody>\n",
       "    <tr>\n",
       "      <th>314</th>\n",
       "      <td>0</td>\n",
       "      <td>34.0</td>\n",
       "    </tr>\n",
       "    <tr>\n",
       "      <th>566</th>\n",
       "      <td>0</td>\n",
       "      <td>4.9</td>\n",
       "    </tr>\n",
       "    <tr>\n",
       "      <th>678</th>\n",
       "      <td>0</td>\n",
       "      <td>6.5</td>\n",
       "    </tr>\n",
       "    <tr>\n",
       "      <th>1160</th>\n",
       "      <td>0</td>\n",
       "      <td>13.3</td>\n",
       "    </tr>\n",
       "    <tr>\n",
       "      <th>1935</th>\n",
       "      <td>0</td>\n",
       "      <td>10.1</td>\n",
       "    </tr>\n",
       "    <tr>\n",
       "      <th>...</th>\n",
       "      <td>...</td>\n",
       "      <td>...</td>\n",
       "    </tr>\n",
       "    <tr>\n",
       "      <th>98235</th>\n",
       "      <td>0</td>\n",
       "      <td>4.9</td>\n",
       "    </tr>\n",
       "    <tr>\n",
       "      <th>98464</th>\n",
       "      <td>0</td>\n",
       "      <td>5.7</td>\n",
       "    </tr>\n",
       "    <tr>\n",
       "      <th>98645</th>\n",
       "      <td>0</td>\n",
       "      <td>12.9</td>\n",
       "    </tr>\n",
       "    <tr>\n",
       "      <th>98862</th>\n",
       "      <td>0</td>\n",
       "      <td>7.7</td>\n",
       "    </tr>\n",
       "    <tr>\n",
       "      <th>98867</th>\n",
       "      <td>0</td>\n",
       "      <td>9.3</td>\n",
       "    </tr>\n",
       "  </tbody>\n",
       "</table>\n",
       "<p>358 rows × 2 columns</p>\n",
       "</div>"
      ],
      "text/plain": [
       "       passenger_count  fare_amount\n",
       "314                  0         34.0\n",
       "566                  0          4.9\n",
       "678                  0          6.5\n",
       "1160                 0         13.3\n",
       "1935                 0         10.1\n",
       "...                ...          ...\n",
       "98235                0          4.9\n",
       "98464                0          5.7\n",
       "98645                0         12.9\n",
       "98862                0          7.7\n",
       "98867                0          9.3\n",
       "\n",
       "[358 rows x 2 columns]"
      ]
     },
     "execution_count": 6,
     "metadata": {},
     "output_type": "execute_result"
    }
   ],
   "source": [
    "df_train.loc[df_train['passenger_count']==0,['passenger_count','fare_amount']]"
   ]
  },
  {
   "cell_type": "code",
   "execution_count": 7,
   "metadata": {},
   "outputs": [],
   "source": [
    "test_passenger=[]\n",
    "for i in range(7):\n",
    "    test_passenger.append(df_train.loc[df_train['passenger_count']==i,['passenger_count','fare_amount']].mean().tolist())\n",
    "\n",
    "test_passenger=np.asarray(test_passenger)"
   ]
  },
  {
   "cell_type": "code",
   "execution_count": 8,
   "metadata": {},
   "outputs": [
    {
     "data": {
      "text/plain": [
       "array([[ 0.        ,  9.16871508],\n",
       "       [ 1.        , 11.20658014],\n",
       "       [ 2.        , 11.87429411],\n",
       "       [ 3.        , 11.38190691],\n",
       "       [ 4.        , 11.74747796],\n",
       "       [ 5.        , 11.28611838],\n",
       "       [ 6.        , 12.35310035]])"
      ]
     },
     "execution_count": 8,
     "metadata": {},
     "output_type": "execute_result"
    }
   ],
   "source": [
    "test_passenger"
   ]
  },
  {
   "cell_type": "code",
   "execution_count": 9,
   "metadata": {},
   "outputs": [
    {
     "data": {
      "text/plain": [
       "[<matplotlib.lines.Line2D at 0x7efe37eb6390>]"
      ]
     },
     "execution_count": 9,
     "metadata": {},
     "output_type": "execute_result"
    },
    {
     "data": {
      "image/png": "[encoded data removed]",
      "text/plain": [
       "<matplotlib.figure.Figure at 0x7efe389d6c88>"
      ]
     },
     "metadata": {},
     "output_type": "display_data"
    }
   ],
   "source": [
    "plt.plot(test_passenger[0:,0],test_passenger[0:,1]) # it shows that other than pasnumber=0 or 6,\n",
    "#there isn't a significant impact on fare, but better to build separate models for each?"
   ]
  },
  {
   "cell_type": "code",
   "execution_count": 10,
   "metadata": {},
   "outputs": [
    {
     "name": "stderr",
     "output_type": "stream",
     "text": [
      "/home/garyh/.local/lib/python3.6/site-packages/ipykernel_launcher.py:2: SettingWithCopyWarning: \n",
      "A value is trying to be set on a copy of a slice from a DataFrame.\n",
      "Try using .loc[row_indexer,col_indexer] = value instead\n",
      "\n",
      "See the caveats in the documentation: http://pandas.pydata.org/pandas-docs/stable/indexing.html#indexing-view-versus-copy\n",
      "  \n",
      "/home/garyh/.local/lib/python3.6/site-packages/ipykernel_launcher.py:3: SettingWithCopyWarning: \n",
      "A value is trying to be set on a copy of a slice from a DataFrame.\n",
      "Try using .loc[row_indexer,col_indexer] = value instead\n",
      "\n",
      "See the caveats in the documentation: http://pandas.pydata.org/pandas-docs/stable/indexing.html#indexing-view-versus-copy\n",
      "  This is separate from the ipykernel package so we can avoid doing imports until\n",
      "/home/garyh/.local/lib/python3.6/site-packages/ipykernel_launcher.py:4: SettingWithCopyWarning: \n",
      "A value is trying to be set on a copy of a slice from a DataFrame.\n",
      "Try using .loc[row_indexer,col_indexer] = value instead\n",
      "\n",
      "See the caveats in the documentation: http://pandas.pydata.org/pandas-docs/stable/indexing.html#indexing-view-versus-copy\n",
      "  after removing the cwd from sys.path.\n"
     ]
    }
   ],
   "source": [
    "def add_travel_vector_features(df):\n",
    "    df['abs_diff_longitude'] = (df.dropoff_longitude - df.pickup_longitude).abs()\n",
    "    df['abs_diff_latitude'] = (df.dropoff_latitude - df.pickup_latitude).abs()\n",
    "    df['abs_dist_travel'] = df.abs_diff_longitude + df.abs_diff_latitude\n",
    "\n",
    "add_travel_vector_features(df_train)"
   ]
  },
  {
   "cell_type": "code",
   "execution_count": 11,
   "metadata": {},
   "outputs": [
    {
     "data": {
      "text/plain": [
       "-73.9739196672352"
      ]
     },
     "execution_count": 11,
     "metadata": {},
     "output_type": "execute_result"
    }
   ],
   "source": [
    "up_lat_mean=df_train.pickup_latitude.mean();up_lat_mean\n",
    "up_long_mean=df_train.pickup_longitude.mean();up_long_mean\n",
    "off_lat_mean=df_train.dropoff_latitude.mean();off_lat_mean\n",
    "off_long_mean=df_train.dropoff_longitude.mean();off_long_mean"
   ]
  },
  {
   "cell_type": "code",
   "execution_count": 12,
   "metadata": {},
   "outputs": [
    {
     "name": "stderr",
     "output_type": "stream",
     "text": [
      "/home/garyh/.local/lib/python3.6/site-packages/ipykernel_launcher.py:4: SettingWithCopyWarning: \n",
      "A value is trying to be set on a copy of a slice from a DataFrame.\n",
      "Try using .loc[row_indexer,col_indexer] = value instead\n",
      "\n",
      "See the caveats in the documentation: http://pandas.pydata.org/pandas-docs/stable/indexing.html#indexing-view-versus-copy\n",
      "  after removing the cwd from sys.path.\n",
      "/home/garyh/.local/lib/python3.6/site-packages/ipykernel_launcher.py:5: SettingWithCopyWarning: \n",
      "A value is trying to be set on a copy of a slice from a DataFrame.\n",
      "Try using .loc[row_indexer,col_indexer] = value instead\n",
      "\n",
      "See the caveats in the documentation: http://pandas.pydata.org/pandas-docs/stable/indexing.html#indexing-view-versus-copy\n",
      "  \"\"\"\n"
     ]
    }
   ],
   "source": [
    "def add_loc_bias_feature(df):\n",
    "    lat_mean=40.75\n",
    "    long_mean=-73.97\n",
    "    df_train['up_diff_center'] = np.sqrt((df_train.pickup_latitude-lat_mean)**2 + (df_train.pickup_longitude-long_mean)**2)\n",
    "    df_train['off_diff_center'] = np.sqrt((df_train.dropoff_latitude-lat_mean)**2 + (df_train.dropoff_longitude-long_mean)**2)\n",
    "\n",
    "add_loc_bias_feature(df_train)"
   ]
  },
  {
   "cell_type": "code",
   "execution_count": null,
   "metadata": {},
   "outputs": [],
   "source": []
  },
  {
   "cell_type": "code",
   "execution_count": 13,
   "metadata": {},
   "outputs": [
    {
     "name": "stderr",
     "output_type": "stream",
     "text": [
      "/home/garyh/.local/lib/python3.6/site-packages/ipykernel_launcher.py:3: SettingWithCopyWarning: \n",
      "A value is trying to be set on a copy of a slice from a DataFrame.\n",
      "Try using .loc[row_indexer,col_indexer] = value instead\n",
      "\n",
      "See the caveats in the documentation: http://pandas.pydata.org/pandas-docs/stable/indexing.html#indexing-view-versus-copy\n",
      "  This is separate from the ipykernel package so we can avoid doing imports until\n",
      "/home/garyh/.local/lib/python3.6/site-packages/ipykernel_launcher.py:4: SettingWithCopyWarning: \n",
      "A value is trying to be set on a copy of a slice from a DataFrame.\n",
      "Try using .loc[row_indexer,col_indexer] = value instead\n",
      "\n",
      "See the caveats in the documentation: http://pandas.pydata.org/pandas-docs/stable/indexing.html#indexing-view-versus-copy\n",
      "  after removing the cwd from sys.path.\n",
      "/home/garyh/.local/lib/python3.6/site-packages/ipykernel_launcher.py:5: SettingWithCopyWarning: \n",
      "A value is trying to be set on a copy of a slice from a DataFrame.\n",
      "Try using .loc[row_indexer,col_indexer] = value instead\n",
      "\n",
      "See the caveats in the documentation: http://pandas.pydata.org/pandas-docs/stable/indexing.html#indexing-view-versus-copy\n",
      "  \"\"\"\n",
      "/home/garyh/.local/lib/python3.6/site-packages/ipykernel_launcher.py:6: SettingWithCopyWarning: \n",
      "A value is trying to be set on a copy of a slice from a DataFrame.\n",
      "Try using .loc[row_indexer,col_indexer] = value instead\n",
      "\n",
      "See the caveats in the documentation: http://pandas.pydata.org/pandas-docs/stable/indexing.html#indexing-view-versus-copy\n",
      "  \n"
     ]
    }
   ],
   "source": [
    "def add_time_features(df):\n",
    "    timecol=pd.to_datetime(df['pickup_datetime'])\n",
    "    df['pickup_year'] = timecol.dt.year\n",
    "    df['pickup_month'] = timecol.dt.month\n",
    "    df['pickup_day'] = timecol.dt.day\n",
    "    df['pickup_hour'] = timecol.dt.hour\n",
    "\n",
    "add_time_features(df_train)"
   ]
  },
  {
   "cell_type": "code",
   "execution_count": 14,
   "metadata": {},
   "outputs": [
    {
     "data": {
      "text/html": [
       "<div>\n",
       "<style scoped>\n",
       "    .dataframe tbody tr th:only-of-type {\n",
       "        vertical-align: middle;\n",
       "    }\n",
       "\n",
       "    .dataframe tbody tr th {\n",
       "        vertical-align: top;\n",
       "    }\n",
       "\n",
       "    .dataframe thead th {\n",
       "        text-align: right;\n",
       "    }\n",
       "</style>\n",
       "<table border=\"1\" class=\"dataframe\">\n",
       "  <thead>\n",
       "    <tr style=\"text-align: right;\">\n",
       "      <th></th>\n",
       "      <th>key</th>\n",
       "      <th>fare_amount</th>\n",
       "      <th>pickup_datetime</th>\n",
       "      <th>pickup_longitude</th>\n",
       "      <th>pickup_latitude</th>\n",
       "      <th>dropoff_longitude</th>\n",
       "      <th>dropoff_latitude</th>\n",
       "      <th>passenger_count</th>\n",
       "      <th>abs_diff_longitude</th>\n",
       "      <th>abs_diff_latitude</th>\n",
       "      <th>abs_dist_travel</th>\n",
       "      <th>up_diff_center</th>\n",
       "      <th>off_diff_center</th>\n",
       "      <th>pickup_year</th>\n",
       "      <th>pickup_month</th>\n",
       "      <th>pickup_day</th>\n",
       "      <th>pickup_hour</th>\n",
       "    </tr>\n",
       "  </thead>\n",
       "  <tbody>\n",
       "    <tr>\n",
       "      <th>0</th>\n",
       "      <td>2009-06-15 17:26:21.0000001</td>\n",
       "      <td>4.5</td>\n",
       "      <td>2009-06-15 17:26:21 UTC</td>\n",
       "      <td>-73.844311</td>\n",
       "      <td>40.721319</td>\n",
       "      <td>-73.841610</td>\n",
       "      <td>40.712278</td>\n",
       "      <td>1</td>\n",
       "      <td>0.002701</td>\n",
       "      <td>0.009041</td>\n",
       "      <td>0.011742</td>\n",
       "      <td>0.128920</td>\n",
       "      <td>0.133817</td>\n",
       "      <td>2009</td>\n",
       "      <td>6</td>\n",
       "      <td>15</td>\n",
       "      <td>17</td>\n",
       "    </tr>\n",
       "    <tr>\n",
       "      <th>1</th>\n",
       "      <td>2010-01-05 16:52:16.0000002</td>\n",
       "      <td>16.9</td>\n",
       "      <td>2010-01-05 16:52:16 UTC</td>\n",
       "      <td>-74.016048</td>\n",
       "      <td>40.711303</td>\n",
       "      <td>-73.979268</td>\n",
       "      <td>40.782004</td>\n",
       "      <td>1</td>\n",
       "      <td>0.036780</td>\n",
       "      <td>0.070701</td>\n",
       "      <td>0.107481</td>\n",
       "      <td>0.060149</td>\n",
       "      <td>0.033319</td>\n",
       "      <td>2010</td>\n",
       "      <td>1</td>\n",
       "      <td>5</td>\n",
       "      <td>16</td>\n",
       "    </tr>\n",
       "    <tr>\n",
       "      <th>2</th>\n",
       "      <td>2011-08-18 00:35:00.00000049</td>\n",
       "      <td>5.7</td>\n",
       "      <td>2011-08-18 00:35:00 UTC</td>\n",
       "      <td>-73.982738</td>\n",
       "      <td>40.761270</td>\n",
       "      <td>-73.991242</td>\n",
       "      <td>40.750562</td>\n",
       "      <td>2</td>\n",
       "      <td>0.008504</td>\n",
       "      <td>0.010708</td>\n",
       "      <td>0.019212</td>\n",
       "      <td>0.017008</td>\n",
       "      <td>0.021249</td>\n",
       "      <td>2011</td>\n",
       "      <td>8</td>\n",
       "      <td>18</td>\n",
       "      <td>0</td>\n",
       "    </tr>\n",
       "    <tr>\n",
       "      <th>3</th>\n",
       "      <td>2012-04-21 04:30:42.0000001</td>\n",
       "      <td>7.7</td>\n",
       "      <td>2012-04-21 04:30:42 UTC</td>\n",
       "      <td>-73.987130</td>\n",
       "      <td>40.733143</td>\n",
       "      <td>-73.991567</td>\n",
       "      <td>40.758092</td>\n",
       "      <td>1</td>\n",
       "      <td>0.004437</td>\n",
       "      <td>0.024949</td>\n",
       "      <td>0.029386</td>\n",
       "      <td>0.024033</td>\n",
       "      <td>0.023035</td>\n",
       "      <td>2012</td>\n",
       "      <td>4</td>\n",
       "      <td>21</td>\n",
       "      <td>4</td>\n",
       "    </tr>\n",
       "    <tr>\n",
       "      <th>4</th>\n",
       "      <td>2010-03-09 07:51:00.000000135</td>\n",
       "      <td>5.3</td>\n",
       "      <td>2010-03-09 07:51:00 UTC</td>\n",
       "      <td>-73.968095</td>\n",
       "      <td>40.768008</td>\n",
       "      <td>-73.956655</td>\n",
       "      <td>40.783762</td>\n",
       "      <td>1</td>\n",
       "      <td>0.011440</td>\n",
       "      <td>0.015754</td>\n",
       "      <td>0.027194</td>\n",
       "      <td>0.018108</td>\n",
       "      <td>0.036304</td>\n",
       "      <td>2010</td>\n",
       "      <td>3</td>\n",
       "      <td>9</td>\n",
       "      <td>7</td>\n",
       "    </tr>\n",
       "    <tr>\n",
       "      <th>...</th>\n",
       "      <td>...</td>\n",
       "      <td>...</td>\n",
       "      <td>...</td>\n",
       "      <td>...</td>\n",
       "      <td>...</td>\n",
       "      <td>...</td>\n",
       "      <td>...</td>\n",
       "      <td>...</td>\n",
       "      <td>...</td>\n",
       "      <td>...</td>\n",
       "      <td>...</td>\n",
       "      <td>...</td>\n",
       "      <td>...</td>\n",
       "      <td>...</td>\n",
       "      <td>...</td>\n",
       "      <td>...</td>\n",
       "      <td>...</td>\n",
       "    </tr>\n",
       "    <tr>\n",
       "      <th>99995</th>\n",
       "      <td>2013-09-24 07:39:00.00000071</td>\n",
       "      <td>9.0</td>\n",
       "      <td>2013-09-24 07:39:00 UTC</td>\n",
       "      <td>-73.947977</td>\n",
       "      <td>40.784792</td>\n",
       "      <td>-73.964262</td>\n",
       "      <td>40.792347</td>\n",
       "      <td>5</td>\n",
       "      <td>0.016285</td>\n",
       "      <td>0.007555</td>\n",
       "      <td>0.023840</td>\n",
       "      <td>0.041176</td>\n",
       "      <td>0.042734</td>\n",
       "      <td>2013</td>\n",
       "      <td>9</td>\n",
       "      <td>24</td>\n",
       "      <td>7</td>\n",
       "    </tr>\n",
       "    <tr>\n",
       "      <th>99996</th>\n",
       "      <td>2014-05-15 12:15:45.0000001</td>\n",
       "      <td>6.0</td>\n",
       "      <td>2014-05-15 12:15:45 UTC</td>\n",
       "      <td>-73.962918</td>\n",
       "      <td>40.799107</td>\n",
       "      <td>-73.974178</td>\n",
       "      <td>40.786487</td>\n",
       "      <td>1</td>\n",
       "      <td>0.011260</td>\n",
       "      <td>0.012620</td>\n",
       "      <td>0.023880</td>\n",
       "      <td>0.049615</td>\n",
       "      <td>0.036725</td>\n",
       "      <td>2014</td>\n",
       "      <td>5</td>\n",
       "      <td>15</td>\n",
       "      <td>12</td>\n",
       "    </tr>\n",
       "    <tr>\n",
       "      <th>99997</th>\n",
       "      <td>2015-02-19 17:40:43.0000001</td>\n",
       "      <td>5.0</td>\n",
       "      <td>2015-02-19 17:40:43 UTC</td>\n",
       "      <td>-73.996773</td>\n",
       "      <td>40.723549</td>\n",
       "      <td>-73.991974</td>\n",
       "      <td>40.724724</td>\n",
       "      <td>1</td>\n",
       "      <td>0.004799</td>\n",
       "      <td>0.001175</td>\n",
       "      <td>0.005974</td>\n",
       "      <td>0.037636</td>\n",
       "      <td>0.033492</td>\n",
       "      <td>2015</td>\n",
       "      <td>2</td>\n",
       "      <td>19</td>\n",
       "      <td>17</td>\n",
       "    </tr>\n",
       "    <tr>\n",
       "      <th>99998</th>\n",
       "      <td>2009-10-10 23:35:00.000000165</td>\n",
       "      <td>6.9</td>\n",
       "      <td>2009-10-10 23:35:00 UTC</td>\n",
       "      <td>-73.983652</td>\n",
       "      <td>40.756667</td>\n",
       "      <td>-73.982715</td>\n",
       "      <td>40.767067</td>\n",
       "      <td>4</td>\n",
       "      <td>0.000937</td>\n",
       "      <td>0.010400</td>\n",
       "      <td>0.011337</td>\n",
       "      <td>0.015193</td>\n",
       "      <td>0.021283</td>\n",
       "      <td>2009</td>\n",
       "      <td>10</td>\n",
       "      <td>10</td>\n",
       "      <td>23</td>\n",
       "    </tr>\n",
       "    <tr>\n",
       "      <th>99999</th>\n",
       "      <td>2010-11-09 16:09:00.00000015</td>\n",
       "      <td>5.7</td>\n",
       "      <td>2010-11-09 16:09:00 UTC</td>\n",
       "      <td>-73.975663</td>\n",
       "      <td>40.791653</td>\n",
       "      <td>-73.982267</td>\n",
       "      <td>40.774968</td>\n",
       "      <td>1</td>\n",
       "      <td>0.006604</td>\n",
       "      <td>0.016685</td>\n",
       "      <td>0.023289</td>\n",
       "      <td>0.042036</td>\n",
       "      <td>0.027819</td>\n",
       "      <td>2010</td>\n",
       "      <td>11</td>\n",
       "      <td>9</td>\n",
       "      <td>16</td>\n",
       "    </tr>\n",
       "  </tbody>\n",
       "</table>\n",
       "<p>97885 rows × 17 columns</p>\n",
       "</div>"
      ],
      "text/plain": [
       "                                 key  fare_amount          pickup_datetime  \\\n",
       "0        2009-06-15 17:26:21.0000001          4.5  2009-06-15 17:26:21 UTC   \n",
       "1        2010-01-05 16:52:16.0000002         16.9  2010-01-05 16:52:16 UTC   \n",
       "2       2011-08-18 00:35:00.00000049          5.7  2011-08-18 00:35:00 UTC   \n",
       "3        2012-04-21 04:30:42.0000001          7.7  2012-04-21 04:30:42 UTC   \n",
       "4      2010-03-09 07:51:00.000000135          5.3  2010-03-09 07:51:00 UTC   \n",
       "...                              ...          ...                      ...   \n",
       "99995   2013-09-24 07:39:00.00000071          9.0  2013-09-24 07:39:00 UTC   \n",
       "99996    2014-05-15 12:15:45.0000001          6.0  2014-05-15 12:15:45 UTC   \n",
       "99997    2015-02-19 17:40:43.0000001          5.0  2015-02-19 17:40:43 UTC   \n",
       "99998  2009-10-10 23:35:00.000000165          6.9  2009-10-10 23:35:00 UTC   \n",
       "99999   2010-11-09 16:09:00.00000015          5.7  2010-11-09 16:09:00 UTC   \n",
       "\n",
       "       pickup_longitude  pickup_latitude  dropoff_longitude  dropoff_latitude  \\\n",
       "0            -73.844311        40.721319         -73.841610         40.712278   \n",
       "1            -74.016048        40.711303         -73.979268         40.782004   \n",
       "2            -73.982738        40.761270         -73.991242         40.750562   \n",
       "3            -73.987130        40.733143         -73.991567         40.758092   \n",
       "4            -73.968095        40.768008         -73.956655         40.783762   \n",
       "...                 ...              ...                ...               ...   \n",
       "99995        -73.947977        40.784792         -73.964262         40.792347   \n",
       "99996        -73.962918        40.799107         -73.974178         40.786487   \n",
       "99997        -73.996773        40.723549         -73.991974         40.724724   \n",
       "99998        -73.983652        40.756667         -73.982715         40.767067   \n",
       "99999        -73.975663        40.791653         -73.982267         40.774968   \n",
       "\n",
       "       passenger_count  abs_diff_longitude  abs_diff_latitude  \\\n",
       "0                    1            0.002701           0.009041   \n",
       "1                    1            0.036780           0.070701   \n",
       "2                    2            0.008504           0.010708   \n",
       "3                    1            0.004437           0.024949   \n",
       "4                    1            0.011440           0.015754   \n",
       "...                ...                 ...                ...   \n",
       "99995                5            0.016285           0.007555   \n",
       "99996                1            0.011260           0.012620   \n",
       "99997                1            0.004799           0.001175   \n",
       "99998                4            0.000937           0.010400   \n",
       "99999                1            0.006604           0.016685   \n",
       "\n",
       "       abs_dist_travel  up_diff_center  off_diff_center  pickup_year  \\\n",
       "0             0.011742        0.128920         0.133817         2009   \n",
       "1             0.107481        0.060149         0.033319         2010   \n",
       "2             0.019212        0.017008         0.021249         2011   \n",
       "3             0.029386        0.024033         0.023035         2012   \n",
       "4             0.027194        0.018108         0.036304         2010   \n",
       "...                ...             ...              ...          ...   \n",
       "99995         0.023840        0.041176         0.042734         2013   \n",
       "99996         0.023880        0.049615         0.036725         2014   \n",
       "99997         0.005974        0.037636         0.033492         2015   \n",
       "99998         0.011337        0.015193         0.021283         2009   \n",
       "99999         0.023289        0.042036         0.027819         2010   \n",
       "\n",
       "       pickup_month  pickup_day  pickup_hour  \n",
       "0                 6          15           17  \n",
       "1                 1           5           16  \n",
       "2                 8          18            0  \n",
       "3                 4          21            4  \n",
       "4                 3           9            7  \n",
       "...             ...         ...          ...  \n",
       "99995             9          24            7  \n",
       "99996             5          15           12  \n",
       "99997             2          19           17  \n",
       "99998            10          10           23  \n",
       "99999            11           9           16  \n",
       "\n",
       "[97885 rows x 17 columns]"
      ]
     },
     "execution_count": 14,
     "metadata": {},
     "output_type": "execute_result"
    }
   ],
   "source": [
    "df_train"
   ]
  },
  {
   "cell_type": "code",
   "execution_count": 15,
   "metadata": {},
   "outputs": [],
   "source": [
    "df_train=df_train[df_train['passenger_count']>0]"
   ]
  },
  {
   "cell_type": "code",
   "execution_count": 16,
   "metadata": {},
   "outputs": [
    {
     "data": {
      "text/plain": [
       "1    68108\n",
       "2    14287\n",
       "5     6876\n",
       "3     4211\n",
       "4     2042\n",
       "6     2003\n",
       "Name: passenger_count, dtype: int64"
      ]
     },
     "execution_count": 16,
     "metadata": {},
     "output_type": "execute_result"
    }
   ],
   "source": [
    "df_train['passenger_count'].value_counts()"
   ]
  },
  {
   "cell_type": "code",
   "execution_count": 17,
   "metadata": {},
   "outputs": [
    {
     "data": {
      "text/html": [
       "<div>\n",
       "<style scoped>\n",
       "    .dataframe tbody tr th:only-of-type {\n",
       "        vertical-align: middle;\n",
       "    }\n",
       "\n",
       "    .dataframe tbody tr th {\n",
       "        vertical-align: top;\n",
       "    }\n",
       "\n",
       "    .dataframe thead th {\n",
       "        text-align: right;\n",
       "    }\n",
       "</style>\n",
       "<table border=\"1\" class=\"dataframe\">\n",
       "  <thead>\n",
       "    <tr style=\"text-align: right;\">\n",
       "      <th></th>\n",
       "      <th>key</th>\n",
       "      <th>fare_amount</th>\n",
       "      <th>pickup_datetime</th>\n",
       "      <th>pickup_longitude</th>\n",
       "      <th>pickup_latitude</th>\n",
       "      <th>dropoff_longitude</th>\n",
       "      <th>dropoff_latitude</th>\n",
       "      <th>passenger_count</th>\n",
       "      <th>abs_diff_longitude</th>\n",
       "      <th>abs_diff_latitude</th>\n",
       "      <th>abs_dist_travel</th>\n",
       "      <th>up_diff_center</th>\n",
       "      <th>off_diff_center</th>\n",
       "      <th>pickup_year</th>\n",
       "      <th>pickup_month</th>\n",
       "      <th>pickup_day</th>\n",
       "      <th>pickup_hour</th>\n",
       "    </tr>\n",
       "  </thead>\n",
       "  <tbody>\n",
       "    <tr>\n",
       "      <th>0</th>\n",
       "      <td>2009-06-15 17:26:21.0000001</td>\n",
       "      <td>4.5</td>\n",
       "      <td>2009-06-15 17:26:21 UTC</td>\n",
       "      <td>-73.844311</td>\n",
       "      <td>40.721319</td>\n",
       "      <td>-73.841610</td>\n",
       "      <td>40.712278</td>\n",
       "      <td>1</td>\n",
       "      <td>0.002701</td>\n",
       "      <td>0.009041</td>\n",
       "      <td>0.011742</td>\n",
       "      <td>0.128920</td>\n",
       "      <td>0.133817</td>\n",
       "      <td>2009</td>\n",
       "      <td>6</td>\n",
       "      <td>15</td>\n",
       "      <td>17</td>\n",
       "    </tr>\n",
       "    <tr>\n",
       "      <th>1</th>\n",
       "      <td>2010-01-05 16:52:16.0000002</td>\n",
       "      <td>16.9</td>\n",
       "      <td>2010-01-05 16:52:16 UTC</td>\n",
       "      <td>-74.016048</td>\n",
       "      <td>40.711303</td>\n",
       "      <td>-73.979268</td>\n",
       "      <td>40.782004</td>\n",
       "      <td>1</td>\n",
       "      <td>0.036780</td>\n",
       "      <td>0.070701</td>\n",
       "      <td>0.107481</td>\n",
       "      <td>0.060149</td>\n",
       "      <td>0.033319</td>\n",
       "      <td>2010</td>\n",
       "      <td>1</td>\n",
       "      <td>5</td>\n",
       "      <td>16</td>\n",
       "    </tr>\n",
       "    <tr>\n",
       "      <th>2</th>\n",
       "      <td>2011-08-18 00:35:00.00000049</td>\n",
       "      <td>5.7</td>\n",
       "      <td>2011-08-18 00:35:00 UTC</td>\n",
       "      <td>-73.982738</td>\n",
       "      <td>40.761270</td>\n",
       "      <td>-73.991242</td>\n",
       "      <td>40.750562</td>\n",
       "      <td>2</td>\n",
       "      <td>0.008504</td>\n",
       "      <td>0.010708</td>\n",
       "      <td>0.019212</td>\n",
       "      <td>0.017008</td>\n",
       "      <td>0.021249</td>\n",
       "      <td>2011</td>\n",
       "      <td>8</td>\n",
       "      <td>18</td>\n",
       "      <td>0</td>\n",
       "    </tr>\n",
       "    <tr>\n",
       "      <th>3</th>\n",
       "      <td>2012-04-21 04:30:42.0000001</td>\n",
       "      <td>7.7</td>\n",
       "      <td>2012-04-21 04:30:42 UTC</td>\n",
       "      <td>-73.987130</td>\n",
       "      <td>40.733143</td>\n",
       "      <td>-73.991567</td>\n",
       "      <td>40.758092</td>\n",
       "      <td>1</td>\n",
       "      <td>0.004437</td>\n",
       "      <td>0.024949</td>\n",
       "      <td>0.029386</td>\n",
       "      <td>0.024033</td>\n",
       "      <td>0.023035</td>\n",
       "      <td>2012</td>\n",
       "      <td>4</td>\n",
       "      <td>21</td>\n",
       "      <td>4</td>\n",
       "    </tr>\n",
       "    <tr>\n",
       "      <th>4</th>\n",
       "      <td>2010-03-09 07:51:00.000000135</td>\n",
       "      <td>5.3</td>\n",
       "      <td>2010-03-09 07:51:00 UTC</td>\n",
       "      <td>-73.968095</td>\n",
       "      <td>40.768008</td>\n",
       "      <td>-73.956655</td>\n",
       "      <td>40.783762</td>\n",
       "      <td>1</td>\n",
       "      <td>0.011440</td>\n",
       "      <td>0.015754</td>\n",
       "      <td>0.027194</td>\n",
       "      <td>0.018108</td>\n",
       "      <td>0.036304</td>\n",
       "      <td>2010</td>\n",
       "      <td>3</td>\n",
       "      <td>9</td>\n",
       "      <td>7</td>\n",
       "    </tr>\n",
       "    <tr>\n",
       "      <th>...</th>\n",
       "      <td>...</td>\n",
       "      <td>...</td>\n",
       "      <td>...</td>\n",
       "      <td>...</td>\n",
       "      <td>...</td>\n",
       "      <td>...</td>\n",
       "      <td>...</td>\n",
       "      <td>...</td>\n",
       "      <td>...</td>\n",
       "      <td>...</td>\n",
       "      <td>...</td>\n",
       "      <td>...</td>\n",
       "      <td>...</td>\n",
       "      <td>...</td>\n",
       "      <td>...</td>\n",
       "      <td>...</td>\n",
       "      <td>...</td>\n",
       "    </tr>\n",
       "    <tr>\n",
       "      <th>99995</th>\n",
       "      <td>2013-09-24 07:39:00.00000071</td>\n",
       "      <td>9.0</td>\n",
       "      <td>2013-09-24 07:39:00 UTC</td>\n",
       "      <td>-73.947977</td>\n",
       "      <td>40.784792</td>\n",
       "      <td>-73.964262</td>\n",
       "      <td>40.792347</td>\n",
       "      <td>5</td>\n",
       "      <td>0.016285</td>\n",
       "      <td>0.007555</td>\n",
       "      <td>0.023840</td>\n",
       "      <td>0.041176</td>\n",
       "      <td>0.042734</td>\n",
       "      <td>2013</td>\n",
       "      <td>9</td>\n",
       "      <td>24</td>\n",
       "      <td>7</td>\n",
       "    </tr>\n",
       "    <tr>\n",
       "      <th>99996</th>\n",
       "      <td>2014-05-15 12:15:45.0000001</td>\n",
       "      <td>6.0</td>\n",
       "      <td>2014-05-15 12:15:45 UTC</td>\n",
       "      <td>-73.962918</td>\n",
       "      <td>40.799107</td>\n",
       "      <td>-73.974178</td>\n",
       "      <td>40.786487</td>\n",
       "      <td>1</td>\n",
       "      <td>0.011260</td>\n",
       "      <td>0.012620</td>\n",
       "      <td>0.023880</td>\n",
       "      <td>0.049615</td>\n",
       "      <td>0.036725</td>\n",
       "      <td>2014</td>\n",
       "      <td>5</td>\n",
       "      <td>15</td>\n",
       "      <td>12</td>\n",
       "    </tr>\n",
       "    <tr>\n",
       "      <th>99997</th>\n",
       "      <td>2015-02-19 17:40:43.0000001</td>\n",
       "      <td>5.0</td>\n",
       "      <td>2015-02-19 17:40:43 UTC</td>\n",
       "      <td>-73.996773</td>\n",
       "      <td>40.723549</td>\n",
       "      <td>-73.991974</td>\n",
       "      <td>40.724724</td>\n",
       "      <td>1</td>\n",
       "      <td>0.004799</td>\n",
       "      <td>0.001175</td>\n",
       "      <td>0.005974</td>\n",
       "      <td>0.037636</td>\n",
       "      <td>0.033492</td>\n",
       "      <td>2015</td>\n",
       "      <td>2</td>\n",
       "      <td>19</td>\n",
       "      <td>17</td>\n",
       "    </tr>\n",
       "    <tr>\n",
       "      <th>99998</th>\n",
       "      <td>2009-10-10 23:35:00.000000165</td>\n",
       "      <td>6.9</td>\n",
       "      <td>2009-10-10 23:35:00 UTC</td>\n",
       "      <td>-73.983652</td>\n",
       "      <td>40.756667</td>\n",
       "      <td>-73.982715</td>\n",
       "      <td>40.767067</td>\n",
       "      <td>4</td>\n",
       "      <td>0.000937</td>\n",
       "      <td>0.010400</td>\n",
       "      <td>0.011337</td>\n",
       "      <td>0.015193</td>\n",
       "      <td>0.021283</td>\n",
       "      <td>2009</td>\n",
       "      <td>10</td>\n",
       "      <td>10</td>\n",
       "      <td>23</td>\n",
       "    </tr>\n",
       "    <tr>\n",
       "      <th>99999</th>\n",
       "      <td>2010-11-09 16:09:00.00000015</td>\n",
       "      <td>5.7</td>\n",
       "      <td>2010-11-09 16:09:00 UTC</td>\n",
       "      <td>-73.975663</td>\n",
       "      <td>40.791653</td>\n",
       "      <td>-73.982267</td>\n",
       "      <td>40.774968</td>\n",
       "      <td>1</td>\n",
       "      <td>0.006604</td>\n",
       "      <td>0.016685</td>\n",
       "      <td>0.023289</td>\n",
       "      <td>0.042036</td>\n",
       "      <td>0.027819</td>\n",
       "      <td>2010</td>\n",
       "      <td>11</td>\n",
       "      <td>9</td>\n",
       "      <td>16</td>\n",
       "    </tr>\n",
       "  </tbody>\n",
       "</table>\n",
       "<p>97527 rows × 17 columns</p>\n",
       "</div>"
      ],
      "text/plain": [
       "                                 key  fare_amount          pickup_datetime  \\\n",
       "0        2009-06-15 17:26:21.0000001          4.5  2009-06-15 17:26:21 UTC   \n",
       "1        2010-01-05 16:52:16.0000002         16.9  2010-01-05 16:52:16 UTC   \n",
       "2       2011-08-18 00:35:00.00000049          5.7  2011-08-18 00:35:00 UTC   \n",
       "3        2012-04-21 04:30:42.0000001          7.7  2012-04-21 04:30:42 UTC   \n",
       "4      2010-03-09 07:51:00.000000135          5.3  2010-03-09 07:51:00 UTC   \n",
       "...                              ...          ...                      ...   \n",
       "99995   2013-09-24 07:39:00.00000071          9.0  2013-09-24 07:39:00 UTC   \n",
       "99996    2014-05-15 12:15:45.0000001          6.0  2014-05-15 12:15:45 UTC   \n",
       "99997    2015-02-19 17:40:43.0000001          5.0  2015-02-19 17:40:43 UTC   \n",
       "99998  2009-10-10 23:35:00.000000165          6.9  2009-10-10 23:35:00 UTC   \n",
       "99999   2010-11-09 16:09:00.00000015          5.7  2010-11-09 16:09:00 UTC   \n",
       "\n",
       "       pickup_longitude  pickup_latitude  dropoff_longitude  dropoff_latitude  \\\n",
       "0            -73.844311        40.721319         -73.841610         40.712278   \n",
       "1            -74.016048        40.711303         -73.979268         40.782004   \n",
       "2            -73.982738        40.761270         -73.991242         40.750562   \n",
       "3            -73.987130        40.733143         -73.991567         40.758092   \n",
       "4            -73.968095        40.768008         -73.956655         40.783762   \n",
       "...                 ...              ...                ...               ...   \n",
       "99995        -73.947977        40.784792         -73.964262         40.792347   \n",
       "99996        -73.962918        40.799107         -73.974178         40.786487   \n",
       "99997        -73.996773        40.723549         -73.991974         40.724724   \n",
       "99998        -73.983652        40.756667         -73.982715         40.767067   \n",
       "99999        -73.975663        40.791653         -73.982267         40.774968   \n",
       "\n",
       "       passenger_count  abs_diff_longitude  abs_diff_latitude  \\\n",
       "0                    1            0.002701           0.009041   \n",
       "1                    1            0.036780           0.070701   \n",
       "2                    2            0.008504           0.010708   \n",
       "3                    1            0.004437           0.024949   \n",
       "4                    1            0.011440           0.015754   \n",
       "...                ...                 ...                ...   \n",
       "99995                5            0.016285           0.007555   \n",
       "99996                1            0.011260           0.012620   \n",
       "99997                1            0.004799           0.001175   \n",
       "99998                4            0.000937           0.010400   \n",
       "99999                1            0.006604           0.016685   \n",
       "\n",
       "       abs_dist_travel  up_diff_center  off_diff_center  pickup_year  \\\n",
       "0             0.011742        0.128920         0.133817         2009   \n",
       "1             0.107481        0.060149         0.033319         2010   \n",
       "2             0.019212        0.017008         0.021249         2011   \n",
       "3             0.029386        0.024033         0.023035         2012   \n",
       "4             0.027194        0.018108         0.036304         2010   \n",
       "...                ...             ...              ...          ...   \n",
       "99995         0.023840        0.041176         0.042734         2013   \n",
       "99996         0.023880        0.049615         0.036725         2014   \n",
       "99997         0.005974        0.037636         0.033492         2015   \n",
       "99998         0.011337        0.015193         0.021283         2009   \n",
       "99999         0.023289        0.042036         0.027819         2010   \n",
       "\n",
       "       pickup_month  pickup_day  pickup_hour  \n",
       "0                 6          15           17  \n",
       "1                 1           5           16  \n",
       "2                 8          18            0  \n",
       "3                 4          21            4  \n",
       "4                 3           9            7  \n",
       "...             ...         ...          ...  \n",
       "99995             9          24            7  \n",
       "99996             5          15           12  \n",
       "99997             2          19           17  \n",
       "99998            10          10           23  \n",
       "99999            11           9           16  \n",
       "\n",
       "[97527 rows x 17 columns]"
      ]
     },
     "execution_count": 17,
     "metadata": {},
     "output_type": "execute_result"
    }
   ],
   "source": [
    "df_train"
   ]
  },
  {
   "cell_type": "code",
   "execution_count": 18,
   "metadata": {},
   "outputs": [
    {
     "data": {
      "text/plain": [
       "(97527, 17)"
      ]
     },
     "execution_count": 18,
     "metadata": {},
     "output_type": "execute_result"
    }
   ],
   "source": [
    "df_train.shape"
   ]
  },
  {
   "cell_type": "code",
   "execution_count": 19,
   "metadata": {},
   "outputs": [
    {
     "data": {
      "text/html": [
       "<div>\n",
       "<style scoped>\n",
       "    .dataframe tbody tr th:only-of-type {\n",
       "        vertical-align: middle;\n",
       "    }\n",
       "\n",
       "    .dataframe tbody tr th {\n",
       "        vertical-align: top;\n",
       "    }\n",
       "\n",
       "    .dataframe thead th {\n",
       "        text-align: right;\n",
       "    }\n",
       "</style>\n",
       "<table border=\"1\" class=\"dataframe\">\n",
       "  <thead>\n",
       "    <tr style=\"text-align: right;\">\n",
       "      <th></th>\n",
       "      <th>key</th>\n",
       "      <th>fare_amount</th>\n",
       "      <th>pickup_datetime</th>\n",
       "      <th>pickup_longitude</th>\n",
       "      <th>pickup_latitude</th>\n",
       "      <th>dropoff_longitude</th>\n",
       "      <th>dropoff_latitude</th>\n",
       "      <th>passenger_count</th>\n",
       "      <th>abs_diff_longitude</th>\n",
       "      <th>abs_diff_latitude</th>\n",
       "      <th>abs_dist_travel</th>\n",
       "      <th>up_diff_center</th>\n",
       "      <th>off_diff_center</th>\n",
       "      <th>pickup_year</th>\n",
       "      <th>pickup_month</th>\n",
       "      <th>pickup_day</th>\n",
       "      <th>pickup_hour</th>\n",
       "    </tr>\n",
       "  </thead>\n",
       "  <tbody>\n",
       "    <tr>\n",
       "      <th>1</th>\n",
       "      <td>2010-01-05 16:52:16.0000002</td>\n",
       "      <td>16.9</td>\n",
       "      <td>2010-01-05 16:52:16 UTC</td>\n",
       "      <td>-74.016048</td>\n",
       "      <td>40.711303</td>\n",
       "      <td>-73.979268</td>\n",
       "      <td>40.782004</td>\n",
       "      <td>1</td>\n",
       "      <td>0.036780</td>\n",
       "      <td>0.070701</td>\n",
       "      <td>0.107481</td>\n",
       "      <td>0.060149</td>\n",
       "      <td>0.033319</td>\n",
       "      <td>2010</td>\n",
       "      <td>1</td>\n",
       "      <td>5</td>\n",
       "      <td>16</td>\n",
       "    </tr>\n",
       "    <tr>\n",
       "      <th>2</th>\n",
       "      <td>2011-08-18 00:35:00.00000049</td>\n",
       "      <td>5.7</td>\n",
       "      <td>2011-08-18 00:35:00 UTC</td>\n",
       "      <td>-73.982738</td>\n",
       "      <td>40.761270</td>\n",
       "      <td>-73.991242</td>\n",
       "      <td>40.750562</td>\n",
       "      <td>2</td>\n",
       "      <td>0.008504</td>\n",
       "      <td>0.010708</td>\n",
       "      <td>0.019212</td>\n",
       "      <td>0.017008</td>\n",
       "      <td>0.021249</td>\n",
       "      <td>2011</td>\n",
       "      <td>8</td>\n",
       "      <td>18</td>\n",
       "      <td>0</td>\n",
       "    </tr>\n",
       "    <tr>\n",
       "      <th>3</th>\n",
       "      <td>2012-04-21 04:30:42.0000001</td>\n",
       "      <td>7.7</td>\n",
       "      <td>2012-04-21 04:30:42 UTC</td>\n",
       "      <td>-73.987130</td>\n",
       "      <td>40.733143</td>\n",
       "      <td>-73.991567</td>\n",
       "      <td>40.758092</td>\n",
       "      <td>1</td>\n",
       "      <td>0.004437</td>\n",
       "      <td>0.024949</td>\n",
       "      <td>0.029386</td>\n",
       "      <td>0.024033</td>\n",
       "      <td>0.023035</td>\n",
       "      <td>2012</td>\n",
       "      <td>4</td>\n",
       "      <td>21</td>\n",
       "      <td>4</td>\n",
       "    </tr>\n",
       "    <tr>\n",
       "      <th>4</th>\n",
       "      <td>2010-03-09 07:51:00.000000135</td>\n",
       "      <td>5.3</td>\n",
       "      <td>2010-03-09 07:51:00 UTC</td>\n",
       "      <td>-73.968095</td>\n",
       "      <td>40.768008</td>\n",
       "      <td>-73.956655</td>\n",
       "      <td>40.783762</td>\n",
       "      <td>1</td>\n",
       "      <td>0.011440</td>\n",
       "      <td>0.015754</td>\n",
       "      <td>0.027194</td>\n",
       "      <td>0.018108</td>\n",
       "      <td>0.036304</td>\n",
       "      <td>2010</td>\n",
       "      <td>3</td>\n",
       "      <td>9</td>\n",
       "      <td>7</td>\n",
       "    </tr>\n",
       "    <tr>\n",
       "      <th>5</th>\n",
       "      <td>2011-01-06 09:50:45.0000002</td>\n",
       "      <td>12.1</td>\n",
       "      <td>2011-01-06 09:50:45 UTC</td>\n",
       "      <td>-74.000964</td>\n",
       "      <td>40.731630</td>\n",
       "      <td>-73.972892</td>\n",
       "      <td>40.758233</td>\n",
       "      <td>1</td>\n",
       "      <td>0.028072</td>\n",
       "      <td>0.026603</td>\n",
       "      <td>0.054675</td>\n",
       "      <td>0.036003</td>\n",
       "      <td>0.008726</td>\n",
       "      <td>2011</td>\n",
       "      <td>1</td>\n",
       "      <td>6</td>\n",
       "      <td>9</td>\n",
       "    </tr>\n",
       "    <tr>\n",
       "      <th>...</th>\n",
       "      <td>...</td>\n",
       "      <td>...</td>\n",
       "      <td>...</td>\n",
       "      <td>...</td>\n",
       "      <td>...</td>\n",
       "      <td>...</td>\n",
       "      <td>...</td>\n",
       "      <td>...</td>\n",
       "      <td>...</td>\n",
       "      <td>...</td>\n",
       "      <td>...</td>\n",
       "      <td>...</td>\n",
       "      <td>...</td>\n",
       "      <td>...</td>\n",
       "      <td>...</td>\n",
       "      <td>...</td>\n",
       "      <td>...</td>\n",
       "    </tr>\n",
       "    <tr>\n",
       "      <th>99995</th>\n",
       "      <td>2013-09-24 07:39:00.00000071</td>\n",
       "      <td>9.0</td>\n",
       "      <td>2013-09-24 07:39:00 UTC</td>\n",
       "      <td>-73.947977</td>\n",
       "      <td>40.784792</td>\n",
       "      <td>-73.964262</td>\n",
       "      <td>40.792347</td>\n",
       "      <td>5</td>\n",
       "      <td>0.016285</td>\n",
       "      <td>0.007555</td>\n",
       "      <td>0.023840</td>\n",
       "      <td>0.041176</td>\n",
       "      <td>0.042734</td>\n",
       "      <td>2013</td>\n",
       "      <td>9</td>\n",
       "      <td>24</td>\n",
       "      <td>7</td>\n",
       "    </tr>\n",
       "    <tr>\n",
       "      <th>99996</th>\n",
       "      <td>2014-05-15 12:15:45.0000001</td>\n",
       "      <td>6.0</td>\n",
       "      <td>2014-05-15 12:15:45 UTC</td>\n",
       "      <td>-73.962918</td>\n",
       "      <td>40.799107</td>\n",
       "      <td>-73.974178</td>\n",
       "      <td>40.786487</td>\n",
       "      <td>1</td>\n",
       "      <td>0.011260</td>\n",
       "      <td>0.012620</td>\n",
       "      <td>0.023880</td>\n",
       "      <td>0.049615</td>\n",
       "      <td>0.036725</td>\n",
       "      <td>2014</td>\n",
       "      <td>5</td>\n",
       "      <td>15</td>\n",
       "      <td>12</td>\n",
       "    </tr>\n",
       "    <tr>\n",
       "      <th>99997</th>\n",
       "      <td>2015-02-19 17:40:43.0000001</td>\n",
       "      <td>5.0</td>\n",
       "      <td>2015-02-19 17:40:43 UTC</td>\n",
       "      <td>-73.996773</td>\n",
       "      <td>40.723549</td>\n",
       "      <td>-73.991974</td>\n",
       "      <td>40.724724</td>\n",
       "      <td>1</td>\n",
       "      <td>0.004799</td>\n",
       "      <td>0.001175</td>\n",
       "      <td>0.005974</td>\n",
       "      <td>0.037636</td>\n",
       "      <td>0.033492</td>\n",
       "      <td>2015</td>\n",
       "      <td>2</td>\n",
       "      <td>19</td>\n",
       "      <td>17</td>\n",
       "    </tr>\n",
       "    <tr>\n",
       "      <th>99998</th>\n",
       "      <td>2009-10-10 23:35:00.000000165</td>\n",
       "      <td>6.9</td>\n",
       "      <td>2009-10-10 23:35:00 UTC</td>\n",
       "      <td>-73.983652</td>\n",
       "      <td>40.756667</td>\n",
       "      <td>-73.982715</td>\n",
       "      <td>40.767067</td>\n",
       "      <td>4</td>\n",
       "      <td>0.000937</td>\n",
       "      <td>0.010400</td>\n",
       "      <td>0.011337</td>\n",
       "      <td>0.015193</td>\n",
       "      <td>0.021283</td>\n",
       "      <td>2009</td>\n",
       "      <td>10</td>\n",
       "      <td>10</td>\n",
       "      <td>23</td>\n",
       "    </tr>\n",
       "    <tr>\n",
       "      <th>99999</th>\n",
       "      <td>2010-11-09 16:09:00.00000015</td>\n",
       "      <td>5.7</td>\n",
       "      <td>2010-11-09 16:09:00 UTC</td>\n",
       "      <td>-73.975663</td>\n",
       "      <td>40.791653</td>\n",
       "      <td>-73.982267</td>\n",
       "      <td>40.774968</td>\n",
       "      <td>1</td>\n",
       "      <td>0.006604</td>\n",
       "      <td>0.016685</td>\n",
       "      <td>0.023289</td>\n",
       "      <td>0.042036</td>\n",
       "      <td>0.027819</td>\n",
       "      <td>2010</td>\n",
       "      <td>11</td>\n",
       "      <td>9</td>\n",
       "      <td>16</td>\n",
       "    </tr>\n",
       "  </tbody>\n",
       "</table>\n",
       "<p>97526 rows × 17 columns</p>\n",
       "</div>"
      ],
      "text/plain": [
       "                                 key  fare_amount          pickup_datetime  \\\n",
       "1        2010-01-05 16:52:16.0000002         16.9  2010-01-05 16:52:16 UTC   \n",
       "2       2011-08-18 00:35:00.00000049          5.7  2011-08-18 00:35:00 UTC   \n",
       "3        2012-04-21 04:30:42.0000001          7.7  2012-04-21 04:30:42 UTC   \n",
       "4      2010-03-09 07:51:00.000000135          5.3  2010-03-09 07:51:00 UTC   \n",
       "5        2011-01-06 09:50:45.0000002         12.1  2011-01-06 09:50:45 UTC   \n",
       "...                              ...          ...                      ...   \n",
       "99995   2013-09-24 07:39:00.00000071          9.0  2013-09-24 07:39:00 UTC   \n",
       "99996    2014-05-15 12:15:45.0000001          6.0  2014-05-15 12:15:45 UTC   \n",
       "99997    2015-02-19 17:40:43.0000001          5.0  2015-02-19 17:40:43 UTC   \n",
       "99998  2009-10-10 23:35:00.000000165          6.9  2009-10-10 23:35:00 UTC   \n",
       "99999   2010-11-09 16:09:00.00000015          5.7  2010-11-09 16:09:00 UTC   \n",
       "\n",
       "       pickup_longitude  pickup_latitude  dropoff_longitude  dropoff_latitude  \\\n",
       "1            -74.016048        40.711303         -73.979268         40.782004   \n",
       "2            -73.982738        40.761270         -73.991242         40.750562   \n",
       "3            -73.987130        40.733143         -73.991567         40.758092   \n",
       "4            -73.968095        40.768008         -73.956655         40.783762   \n",
       "5            -74.000964        40.731630         -73.972892         40.758233   \n",
       "...                 ...              ...                ...               ...   \n",
       "99995        -73.947977        40.784792         -73.964262         40.792347   \n",
       "99996        -73.962918        40.799107         -73.974178         40.786487   \n",
       "99997        -73.996773        40.723549         -73.991974         40.724724   \n",
       "99998        -73.983652        40.756667         -73.982715         40.767067   \n",
       "99999        -73.975663        40.791653         -73.982267         40.774968   \n",
       "\n",
       "       passenger_count  abs_diff_longitude  abs_diff_latitude  \\\n",
       "1                    1            0.036780           0.070701   \n",
       "2                    2            0.008504           0.010708   \n",
       "3                    1            0.004437           0.024949   \n",
       "4                    1            0.011440           0.015754   \n",
       "5                    1            0.028072           0.026603   \n",
       "...                ...                 ...                ...   \n",
       "99995                5            0.016285           0.007555   \n",
       "99996                1            0.011260           0.012620   \n",
       "99997                1            0.004799           0.001175   \n",
       "99998                4            0.000937           0.010400   \n",
       "99999                1            0.006604           0.016685   \n",
       "\n",
       "       abs_dist_travel  up_diff_center  off_diff_center  pickup_year  \\\n",
       "1             0.107481        0.060149         0.033319         2010   \n",
       "2             0.019212        0.017008         0.021249         2011   \n",
       "3             0.029386        0.024033         0.023035         2012   \n",
       "4             0.027194        0.018108         0.036304         2010   \n",
       "5             0.054675        0.036003         0.008726         2011   \n",
       "...                ...             ...              ...          ...   \n",
       "99995         0.023840        0.041176         0.042734         2013   \n",
       "99996         0.023880        0.049615         0.036725         2014   \n",
       "99997         0.005974        0.037636         0.033492         2015   \n",
       "99998         0.011337        0.015193         0.021283         2009   \n",
       "99999         0.023289        0.042036         0.027819         2010   \n",
       "\n",
       "       pickup_month  pickup_day  pickup_hour  \n",
       "1                 1           5           16  \n",
       "2                 8          18            0  \n",
       "3                 4          21            4  \n",
       "4                 3           9            7  \n",
       "5                 1           6            9  \n",
       "...             ...         ...          ...  \n",
       "99995             9          24            7  \n",
       "99996             5          15           12  \n",
       "99997             2          19           17  \n",
       "99998            10          10           23  \n",
       "99999            11           9           16  \n",
       "\n",
       "[97526 rows x 17 columns]"
      ]
     },
     "execution_count": 19,
     "metadata": {},
     "output_type": "execute_result"
    }
   ],
   "source": [
    "df_train.loc[1:500000,:]"
   ]
  },
  {
   "cell_type": "code",
   "execution_count": 20,
   "metadata": {},
   "outputs": [
    {
     "data": {
      "text/html": [
       "<div>\n",
       "<style scoped>\n",
       "    .dataframe tbody tr th:only-of-type {\n",
       "        vertical-align: middle;\n",
       "    }\n",
       "\n",
       "    .dataframe tbody tr th {\n",
       "        vertical-align: top;\n",
       "    }\n",
       "\n",
       "    .dataframe thead th {\n",
       "        text-align: right;\n",
       "    }\n",
       "</style>\n",
       "<table border=\"1\" class=\"dataframe\">\n",
       "  <thead>\n",
       "    <tr style=\"text-align: right;\">\n",
       "      <th></th>\n",
       "      <th>key</th>\n",
       "      <th>fare_amount</th>\n",
       "      <th>pickup_datetime</th>\n",
       "      <th>pickup_longitude</th>\n",
       "      <th>pickup_latitude</th>\n",
       "      <th>dropoff_longitude</th>\n",
       "      <th>dropoff_latitude</th>\n",
       "      <th>passenger_count</th>\n",
       "      <th>abs_diff_longitude</th>\n",
       "      <th>abs_diff_latitude</th>\n",
       "      <th>abs_dist_travel</th>\n",
       "      <th>up_diff_center</th>\n",
       "      <th>off_diff_center</th>\n",
       "      <th>pickup_year</th>\n",
       "      <th>pickup_month</th>\n",
       "      <th>pickup_day</th>\n",
       "      <th>pickup_hour</th>\n",
       "    </tr>\n",
       "  </thead>\n",
       "  <tbody>\n",
       "  </tbody>\n",
       "</table>\n",
       "</div>"
      ],
      "text/plain": [
       "Empty DataFrame\n",
       "Columns: [key, fare_amount, pickup_datetime, pickup_longitude, pickup_latitude, dropoff_longitude, dropoff_latitude, passenger_count, abs_diff_longitude, abs_diff_latitude, abs_dist_travel, up_diff_center, off_diff_center, pickup_year, pickup_month, pickup_day, pickup_hour]\n",
       "Index: []"
      ]
     },
     "execution_count": 20,
     "metadata": {},
     "output_type": "execute_result"
    }
   ],
   "source": [
    "df_train.loc[500001:,:]"
   ]
  },
  {
   "cell_type": "code",
   "execution_count": null,
   "metadata": {},
   "outputs": [],
   "source": []
  },
  {
   "cell_type": "code",
   "execution_count": null,
   "metadata": {},
   "outputs": [],
   "source": []
  },
  {
   "cell_type": "code",
   "execution_count": 21,
   "metadata": {},
   "outputs": [
    {
     "name": "stdout",
     "output_type": "stream",
     "text": [
      "(97526, 8)\n",
      "(97526,)\n",
      "(0, 8)\n",
      "(0,)\n"
     ]
    }
   ],
   "source": [
    "def get_input_matrix(df):\n",
    "    return (np.column_stack((np.ones(len(df)), df.abs_diff_longitude, df.abs_diff_latitude, df.abs_dist_travel, df.up_diff_center, df.off_diff_center, df.pickup_year, df.pickup_hour)),df.fare_amount)\n",
    "\n",
    "train_X,train_y = get_input_matrix(df_train.loc[1:500000,:])\n",
    "valid_X,valid_y = get_input_matrix(df_train.loc[500000:,:])\n",
    "\n",
    "print(train_X.shape)\n",
    "print(train_y.shape)\n",
    "print(valid_X.shape)\n",
    "print(valid_y.shape)"
   ]
  },
  {
   "cell_type": "code",
   "execution_count": 22,
   "metadata": {},
   "outputs": [],
   "source": [
    "(w_lsr, _, _, _) = np.linalg.lstsq(train_X, train_y, rcond = None)"
   ]
  },
  {
   "cell_type": "code",
   "execution_count": 31,
   "metadata": {},
   "outputs": [
    {
     "data": {
      "text/plain": [
       "array([-1.07958315e+03,  8.99897009e+01, -1.36585817e+01,  7.63311193e+01,\n",
       "       -3.82781231e+00,  3.34763591e+01,  5.39124069e-01,  9.61407330e-03])"
      ]
     },
     "execution_count": 31,
     "metadata": {},
     "output_type": "execute_result"
    }
   ],
   "source": [
    "w_lsr"
   ]
  },
  {
   "cell_type": "code",
   "execution_count": 39,
   "metadata": {},
   "outputs": [],
   "source": [
    "w_lsr=w_lsr.reshape(len(w_lsr),1)"
   ]
  },
  {
   "cell_type": "code",
   "execution_count": null,
   "metadata": {},
   "outputs": [],
   "source": []
  },
  {
   "cell_type": "code",
   "execution_count": 40,
   "metadata": {},
   "outputs": [
    {
     "data": {
      "text/plain": [
       "(8, 1)"
      ]
     },
     "execution_count": 40,
     "metadata": {},
     "output_type": "execute_result"
    }
   ],
   "source": [
    "w_lsr.shape"
   ]
  },
  {
   "cell_type": "code",
   "execution_count": 48,
   "metadata": {},
   "outputs": [],
   "source": [
    "def testfun(a):\n",
    "    Va = np.ones((a,1))\n",
    "    Na = 111*a\n",
    "    return Va,Na"
   ]
  },
  {
   "cell_type": "code",
   "execution_count": 50,
   "metadata": {},
   "outputs": [],
   "source": [
    "Va = np.ones((8,1))"
   ]
  },
  {
   "cell_type": "code",
   "execution_count": 51,
   "metadata": {},
   "outputs": [],
   "source": [
    "V,N = testfun(8)"
   ]
  },
  {
   "cell_type": "code",
   "execution_count": 52,
   "metadata": {},
   "outputs": [
    {
     "data": {
      "text/plain": [
       "array([[1.],\n",
       "       [1.],\n",
       "       [1.],\n",
       "       [1.],\n",
       "       [1.],\n",
       "       [1.],\n",
       "       [1.],\n",
       "       [1.]])"
      ]
     },
     "execution_count": 52,
     "metadata": {},
     "output_type": "execute_result"
    }
   ],
   "source": [
    "V"
   ]
  },
  {
   "cell_type": "code",
   "execution_count": 53,
   "metadata": {},
   "outputs": [
    {
     "data": {
      "text/plain": [
       "888"
      ]
     },
     "execution_count": 53,
     "metadata": {},
     "output_type": "execute_result"
    }
   ],
   "source": [
    "N"
   ]
  },
  {
   "cell_type": "code",
   "execution_count": null,
   "metadata": {},
   "outputs": [],
   "source": []
  },
  {
   "cell_type": "code",
   "execution_count": null,
   "metadata": {},
   "outputs": [],
   "source": []
  },
  {
   "cell_type": "code",
   "execution_count": 43,
   "metadata": {},
   "outputs": [
    {
     "ename": "NameError",
     "evalue": "name 'size' is not defined",
     "output_type": "error",
     "traceback": [
      "\u001b[0;31m---------------------------------------------------------------------------\u001b[0m",
      "\u001b[0;31mNameError\u001b[0m                                 Traceback (most recent call last)",
      "\u001b[0;32m<ipython-input-43-c4ce94e60c8e>\u001b[0m in \u001b[0;36m<module>\u001b[0;34m()\u001b[0m\n\u001b[0;32m----> 1\u001b[0;31m \u001b[0msize\u001b[0m\u001b[0;34m(\u001b[0m\u001b[0;36m8\u001b[0m\u001b[0;34m)\u001b[0m\u001b[0;34m\u001b[0m\u001b[0m\n\u001b[0m",
      "\u001b[0;31mNameError\u001b[0m: name 'size' is not defined"
     ]
    }
   ],
   "source": [
    "size(8)"
   ]
  },
  {
   "cell_type": "code",
   "execution_count": null,
   "metadata": {},
   "outputs": [],
   "source": []
  },
  {
   "cell_type": "code",
   "execution_count": null,
   "metadata": {},
   "outputs": [],
   "source": []
  },
  {
   "cell_type": "code",
   "execution_count": null,
   "metadata": {},
   "outputs": [],
   "source": []
  },
  {
   "cell_type": "code",
   "execution_count": null,
   "metadata": {},
   "outputs": [],
   "source": []
  },
  {
   "cell_type": "code",
   "execution_count": null,
   "metadata": {},
   "outputs": [],
   "source": []
  },
  {
   "cell_type": "code",
   "execution_count": null,
   "metadata": {},
   "outputs": [],
   "source": []
  },
  {
   "cell_type": "code",
   "execution_count": null,
   "metadata": {},
   "outputs": [],
   "source": []
  },
  {
   "cell_type": "code",
   "execution_count": null,
   "metadata": {},
   "outputs": [],
   "source": []
  },
  {
   "cell_type": "code",
   "execution_count": 24,
   "metadata": {},
   "outputs": [],
   "source": [
    "valid_y_est = np.matmul(valid_X, w_lsr).round(decimals = 2)"
   ]
  },
  {
   "cell_type": "code",
   "execution_count": 25,
   "metadata": {},
   "outputs": [
    {
     "data": {
      "text/plain": [
       "Series([], Name: fare_amount, dtype: float64)"
      ]
     },
     "execution_count": 25,
     "metadata": {},
     "output_type": "execute_result"
    }
   ],
   "source": [
    "valid_y"
   ]
  },
  {
   "cell_type": "code",
   "execution_count": 26,
   "metadata": {},
   "outputs": [
    {
     "data": {
      "text/plain": [
       "array([], dtype=float64)"
      ]
     },
     "execution_count": 26,
     "metadata": {},
     "output_type": "execute_result"
    }
   ],
   "source": [
    "np.asarray(valid_y)"
   ]
  },
  {
   "cell_type": "code",
   "execution_count": 27,
   "metadata": {},
   "outputs": [
    {
     "data": {
      "text/plain": [
       "array([], dtype=float64)"
      ]
     },
     "execution_count": 27,
     "metadata": {},
     "output_type": "execute_result"
    }
   ],
   "source": [
    "valid_y_est"
   ]
  },
  {
   "cell_type": "code",
   "execution_count": 28,
   "metadata": {},
   "outputs": [
    {
     "name": "stderr",
     "output_type": "stream",
     "text": [
      "/home/garyh/.local/lib/python3.6/site-packages/ipykernel_launcher.py:1: RuntimeWarning: Mean of empty slice.\n",
      "  \"\"\"Entry point for launching an IPython kernel.\n",
      "/home/garyh/.local/lib/python3.6/site-packages/numpy/core/_methods.py:85: RuntimeWarning: invalid value encountered in double_scalars\n",
      "  ret = ret.dtype.type(ret / rcount)\n"
     ]
    }
   ],
   "source": [
    "RMSE_lsr=((np.asarray(valid_y)-valid_y_est) ** 2).mean() ** .5"
   ]
  },
  {
   "cell_type": "code",
   "execution_count": 29,
   "metadata": {},
   "outputs": [
    {
     "data": {
      "text/plain": [
       "nan"
      ]
     },
     "execution_count": 29,
     "metadata": {},
     "output_type": "execute_result"
    }
   ],
   "source": [
    "RMSE_lsr"
   ]
  },
  {
   "cell_type": "code",
   "execution_count": null,
   "metadata": {},
   "outputs": [],
   "source": []
  },
  {
   "cell_type": "code",
   "execution_count": null,
   "metadata": {},
   "outputs": [],
   "source": []
  },
  {
   "cell_type": "code",
   "execution_count": null,
   "metadata": {},
   "outputs": [],
   "source": []
  },
  {
   "cell_type": "code",
   "execution_count": null,
   "metadata": {},
   "outputs": [],
   "source": []
  },
  {
   "cell_type": "code",
   "execution_count": null,
   "metadata": {},
   "outputs": [],
   "source": []
  },
  {
   "cell_type": "code",
   "execution_count": null,
   "metadata": {},
   "outputs": [],
   "source": []
  },
  {
   "cell_type": "code",
   "execution_count": null,
   "metadata": {},
   "outputs": [],
   "source": []
  },
  {
   "cell_type": "code",
   "execution_count": null,
   "metadata": {},
   "outputs": [],
   "source": []
  },
  {
   "cell_type": "code",
   "execution_count": null,
   "metadata": {},
   "outputs": [],
   "source": []
  },
  {
   "cell_type": "code",
   "execution_count": null,
   "metadata": {},
   "outputs": [],
   "source": []
  },
  {
   "cell_type": "code",
   "execution_count": null,
   "metadata": {},
   "outputs": [],
   "source": []
  },
  {
   "cell_type": "code",
   "execution_count": null,
   "metadata": {},
   "outputs": [],
   "source": []
  },
  {
   "cell_type": "code",
   "execution_count": null,
   "metadata": {},
   "outputs": [],
   "source": []
  },
  {
   "cell_type": "code",
   "execution_count": null,
   "metadata": {},
   "outputs": [],
   "source": []
  },
  {
   "cell_type": "code",
   "execution_count": null,
   "metadata": {},
   "outputs": [],
   "source": []
  },
  {
   "cell_type": "code",
   "execution_count": 30,
   "metadata": {},
   "outputs": [
    {
     "ename": "NameError",
     "evalue": "name 'testlist' is not defined",
     "output_type": "error",
     "traceback": [
      "\u001b[0;31m---------------------------------------------------------------------------\u001b[0m",
      "\u001b[0;31mNameError\u001b[0m                                 Traceback (most recent call last)",
      "\u001b[0;32m<ipython-input-30-b86f40f73d12>\u001b[0m in \u001b[0;36m<module>\u001b[0;34m()\u001b[0m\n\u001b[0;32m----> 1\u001b[0;31m \u001b[0mtestlist\u001b[0m\u001b[0;34m[\u001b[0m\u001b[0;36m1\u001b[0m\u001b[0;34m]\u001b[0m\u001b[0;34m\u001b[0m\u001b[0m\n\u001b[0m",
      "\u001b[0;31mNameError\u001b[0m: name 'testlist' is not defined"
     ]
    }
   ],
   "source": [
    "testlist[1]"
   ]
  },
  {
   "cell_type": "code",
   "execution_count": null,
   "metadata": {},
   "outputs": [],
   "source": [
    "testlist[1][1]"
   ]
  },
  {
   "cell_type": "code",
   "execution_count": null,
   "metadata": {},
   "outputs": [],
   "source": []
  },
  {
   "cell_type": "code",
   "execution_count": null,
   "metadata": {},
   "outputs": [],
   "source": []
  },
  {
   "cell_type": "code",
   "execution_count": null,
   "metadata": {},
   "outputs": [],
   "source": []
  },
  {
   "cell_type": "code",
   "execution_count": null,
   "metadata": {},
   "outputs": [],
   "source": []
  },
  {
   "cell_type": "code",
   "execution_count": null,
   "metadata": {},
   "outputs": [],
   "source": [
    "df_test.iloc[df_test['passenger_count']==0,[1,7]]"
   ]
  },
  {
   "cell_type": "code",
   "execution_count": null,
   "metadata": {},
   "outputs": [],
   "source": [
    "df_test['Manha_dist']=np.absolute(df_test['pickup_latitude']-df_test['dropoff_latitude'])+np.absolute(df_test['pickup_longitude']-df_test['dropoff_longitude'])"
   ]
  },
  {
   "cell_type": "code",
   "execution_count": null,
   "metadata": {},
   "outputs": [],
   "source": [
    "df_test"
   ]
  },
  {
   "cell_type": "code",
   "execution_count": null,
   "metadata": {},
   "outputs": [],
   "source": [
    "plt.hist(df_test['fare_amount'],bins=range(0,100,5))"
   ]
  },
  {
   "cell_type": "code",
   "execution_count": null,
   "metadata": {},
   "outputs": [],
   "source": [
    "df_test['dropoff_longitude'].sort_values()"
   ]
  },
  {
   "cell_type": "code",
   "execution_count": null,
   "metadata": {},
   "outputs": [],
   "source": []
  },
  {
   "cell_type": "code",
   "execution_count": null,
   "metadata": {},
   "outputs": [],
   "source": []
  },
  {
   "cell_type": "code",
   "execution_count": null,
   "metadata": {},
   "outputs": [],
   "source": []
  },
  {
   "cell_type": "code",
   "execution_count": null,
   "metadata": {},
   "outputs": [],
   "source": []
  },
  {
   "cell_type": "code",
   "execution_count": null,
   "metadata": {},
   "outputs": [],
   "source": []
  },
  {
   "cell_type": "code",
   "execution_count": null,
   "metadata": {},
   "outputs": [],
   "source": []
  },
  {
   "cell_type": "code",
   "execution_count": null,
   "metadata": {},
   "outputs": [],
   "source": []
  },
  {
   "cell_type": "code",
   "execution_count": null,
   "metadata": {},
   "outputs": [],
   "source": []
  },
  {
   "cell_type": "code",
   "execution_count": null,
   "metadata": {},
   "outputs": [],
   "source": []
  },
  {
   "cell_type": "code",
   "execution_count": null,
   "metadata": {},
   "outputs": [],
   "source": []
  },
  {
   "cell_type": "code",
   "execution_count": null,
   "metadata": {},
   "outputs": [],
   "source": []
  },
  {
   "cell_type": "code",
   "execution_count": null,
   "metadata": {},
   "outputs": [],
   "source": []
  },
  {
   "cell_type": "code",
   "execution_count": null,
   "metadata": {},
   "outputs": [],
   "source": []
  },
  {
   "cell_type": "code",
   "execution_count": null,
   "metadata": {},
   "outputs": [],
   "source": []
  },
  {
   "cell_type": "code",
   "execution_count": null,
   "metadata": {},
   "outputs": [],
   "source": []
  },
  {
   "cell_type": "code",
   "execution_count": null,
   "metadata": {},
   "outputs": [],
   "source": []
  },
  {
   "cell_type": "code",
   "execution_count": null,
   "metadata": {},
   "outputs": [],
   "source": []
  },
  {
   "cell_type": "code",
   "execution_count": null,
   "metadata": {},
   "outputs": [],
   "source": []
  },
  {
   "cell_type": "code",
   "execution_count": null,
   "metadata": {},
   "outputs": [],
   "source": []
  },
  {
   "cell_type": "code",
   "execution_count": null,
   "metadata": {},
   "outputs": [],
   "source": []
  }
 ],
 "metadata": {
  "kernelspec": {
   "display_name": "Python 3",
   "language": "python",
   "name": "python3"
  },
  "language_info": {
   "codemirror_mode": {
    "name": "ipython",
    "version": 3
   },
   "file_extension": ".py",
   "mimetype": "text/x-python",
   "name": "python",
   "nbconvert_exporter": "python",
   "pygments_lexer": "ipython3",
   "version": "3.6.5"
  }
 },
 "nbformat": 4,
 "nbformat_minor": 2
}
